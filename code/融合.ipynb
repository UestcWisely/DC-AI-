{
 "cells": [
  {
   "cell_type": "code",
   "execution_count": 3,
   "metadata": {},
   "outputs": [
    {
     "name": "stderr",
     "output_type": "stream",
     "text": [
      "Using TensorFlow backend.\n"
     ]
    }
   ],
   "source": [
    "import pandas as pd\n",
    "from keras.preprocessing import text,sequence\n",
    "import numpy as np"
   ]
  },
  {
   "cell_type": "code",
   "execution_count": 85,
   "metadata": {},
   "outputs": [],
   "source": [
    "#词频统计\n",
    "df=pd.read_csv('./lip_train.txt',sep='\\t',header=None)\n",
    "ids=df[0].to_list()\n",
    "texts=df[1].to_list()\n",
    "tk.fit_on_texts(texts)\n",
    "world_dict=tk.word_index\n",
    "world_dict   ##131个词语，9996个样本"
   ]
  },
  {
   "cell_type": "code",
   "execution_count": 4,
   "metadata": {},
   "outputs": [],
   "source": [
    "pro_data=pd.read_csv('one_hot_label.txt',sep='\\t')"
   ]
  },
  {
   "cell_type": "markdown",
   "metadata": {},
   "source": [
    "###  融合答案  label=01"
   ]
  },
  {
   "cell_type": "code",
   "execution_count": 41,
   "metadata": {},
   "outputs": [],
   "source": [
    "import pandas as pd\n",
    "import numpy as np"
   ]
  },
  {
   "cell_type": "code",
   "execution_count": 28,
   "metadata": {
    "scrolled": true
   },
   "outputs": [],
   "source": [
    "data=pd.read_csv('one_hot_label.txt',sep='\\t')\n",
    "tag=data.columns[2:].to_list()"
   ]
  },
  {
   "cell_type": "code",
   "execution_count": 133,
   "metadata": {},
   "outputs": [],
   "source": [
    "result=pd.read_csv('1572660220000预测结果1.4_plus.csv',header=None)\n",
    "result1=pd.read_csv('1573177019000预测结果1.5.csv',header=None) #预测结果1.4  预测结果1.5 预测结果1.7  预测结果1.7_dialtion\n",
    "result2=pd.read_csv('1573265656000预测结果1.7.csv',header=None)\n",
    "result3=pd.read_csv('1573297034000预测结果1.7.csv',header=None)\n",
    "result4=pd.read_csv('1572311618000预测结果1.4.csv',header=None)\n",
    "result5=pd.read_csv('1573546382000预测结果1.7_dialtion.csv',header=None) # 1572961278000预测结果1.5  1573796410000lips1.9_\n",
    "result6=pd.read_csv('1572880725000预测结果1.6.csv',header=None)\n",
    "result7=pd.read_csv('1572961278000预测结果1.5.csv',header=None)\n",
    "result8=pd.read_csv('1573796410000lips1.9_.csv',header=None)\n",
    "# result7=pd.read_csv('综合.csv',header=None)"
   ]
  },
  {
   "cell_type": "code",
   "execution_count": 134,
   "metadata": {},
   "outputs": [],
   "source": [
    "v1=pd.get_dummies(result.iloc[:,1],columns=tag)\n",
    "v2=pd.get_dummies(result1.iloc[:,1],columns=tag)\n",
    "v3=pd.get_dummies(result2.iloc[:,1],columns=tag)\n",
    "v4=pd.get_dummies(result3.iloc[:,1],columns=tag)\n",
    "v5=pd.get_dummies(result4.iloc[:,1],columns=tag)\n",
    "v6=pd.get_dummies(result5.iloc[:,1],columns=tag)\n",
    "v7=pd.get_dummies(result6.iloc[:,1],columns=tag)\n",
    "v8=pd.get_dummies(result7.iloc[:,1],columns=tag)\n",
    "v9=pd.get_dummies(result8.iloc[:,1],columns=tag)"
   ]
  },
  {
   "cell_type": "code",
   "execution_count": 120,
   "metadata": {},
   "outputs": [
    {
     "name": "stdout",
     "output_type": "stream",
     "text": [
      "(2504, 313)\n",
      "(2504, 313)\n",
      "(2504, 313)\n",
      "(2504, 313)\n",
      "(2504, 311)\n",
      "(2504, 313)\n"
     ]
    },
    {
     "data": {
      "text/plain": [
       "(None, None, None, None, None, None)"
      ]
     },
     "execution_count": 120,
     "metadata": {},
     "output_type": "execute_result"
    }
   ],
   "source": [
    "print(v1.shape),print(v2.shape),print(v3.shape),print(v4.shape),print(v5.shape),print(v6.shape)"
   ]
  },
  {
   "cell_type": "code",
   "execution_count": 135,
   "metadata": {},
   "outputs": [],
   "source": [
    "v=v1+v2+v3+v4+v6+v5+v7+v8+v9\n",
    "v=v.values"
   ]
  },
  {
   "cell_type": "code",
   "execution_count": 136,
   "metadata": {},
   "outputs": [],
   "source": [
    "finish=pd.DataFrame(np.zeros((len(v),2)),columns=['ID','name'],dtype='object')"
   ]
  },
  {
   "cell_type": "code",
   "execution_count": 137,
   "metadata": {},
   "outputs": [],
   "source": [
    "for i in range(len(v)):\n",
    "    name=tag[np.argmax(v[i,:])]\n",
    "#     print(name)\n",
    "#     print(result.iloc[i,0])\n",
    "    finish.loc[i,'ID']=result.iloc[i,0]\n",
    "    finish.loc[i,'name']=name\n"
   ]
  },
  {
   "cell_type": "code",
   "execution_count": null,
   "metadata": {
    "scrolled": true
   },
   "outputs": [],
   "source": []
  },
  {
   "cell_type": "code",
   "execution_count": 138,
   "metadata": {},
   "outputs": [],
   "source": [
    "finish.to_csv('综合.csv',header=False,index=False)"
   ]
  },
  {
   "cell_type": "code",
   "execution_count": null,
   "metadata": {},
   "outputs": [],
   "source": []
  }
 ],
 "metadata": {
  "kernelspec": {
   "display_name": "Python 3",
   "language": "python",
   "name": "python3"
  },
  "language_info": {
   "codemirror_mode": {
    "name": "ipython",
    "version": 3
   },
   "file_extension": ".py",
   "mimetype": "text/x-python",
   "name": "python",
   "nbconvert_exporter": "python",
   "pygments_lexer": "ipython3",
   "version": "3.5.4"
  }
 },
 "nbformat": 4,
 "nbformat_minor": 2
}
